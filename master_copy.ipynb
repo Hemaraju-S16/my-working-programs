{
 "cells": [
  {
   "cell_type": "code",
   "execution_count": 3,
   "metadata": {},
   "outputs": [
    {
     "name": "stdout",
     "output_type": "stream",
     "text": [
      "welcome to hemagiri studio\n"
     ]
    }
   ],
   "source": [
    "print(\"welcome to hemagiri studio\")"
   ]
  },
  {
   "cell_type": "code",
   "execution_count": null,
   "metadata": {},
   "outputs": [],
   "source": []
  },
  {
   "cell_type": "code",
   "execution_count": 16,
   "metadata": {},
   "outputs": [
    {
     "name": "stdout",
     "output_type": "stream",
     "text": [
      "<class 'function'>\n",
      "hii\n",
      " function should do one thing really well ********\n",
      "\n",
      "        functions should return something*************\n",
      "\n",
      "        functions are fun*****\n",
      "\n",
      "\n",
      "        😁👍👍👍👍***********\n",
      "        \n"
     ]
    }
   ],
   "source": [
    "\n",
    "print(type(sum))\n",
    "\n",
    "\n",
    "def summer(a,b):\n",
    "    return (a+b)\n",
    "\n",
    "summer(45,25)\n",
    "\n",
    "def sum(num1, num2):\n",
    "    print(\"hii\")\n",
    "    num1 + num2\n",
    "sum(4,5)\n",
    "\n",
    "print(''' function should do one thing really well ********\n",
    "\n",
    "        functions should return something*************\n",
    "\n",
    "        functions are fun*****\n",
    "\n",
    "\n",
    "        😁👍👍👍👍***********\n",
    "        ''')"
   ]
  },
  {
   "cell_type": "code",
   "execution_count": 53,
   "metadata": {},
   "outputs": [
    {
     "name": "stdout",
     "output_type": "stream",
     "text": [
      "3 23\n",
      "[0, 23, 46, 69, 92, 115, 138, 161, 184, 207, 230, 253, 276, 299, 322, 345, 368, 391, 414, 437, 460, 483, 506]\n"
     ]
    }
   ],
   "source": [
    "def addition(a,b):\n",
    "    return (a+b)\n",
    "\n",
    "total = addition(1,2)\n",
    "\n",
    "another_total = addition(20, total)\n",
    "\n",
    "print(total, another_total)\n",
    "new_list = [ ]\n",
    "for x in range(another_total):\n",
    "      list_items =  x * another_total\n",
    "      new_list.append(list_items)\n",
    "print(new_list)"
   ]
  },
  {
   "cell_type": "code",
   "execution_count": 55,
   "metadata": {},
   "outputs": [
    {
     "name": "stdout",
     "output_type": "stream",
     "text": [
      "8\n"
     ]
    }
   ],
   "source": [
    "print(max(4,8))"
   ]
  },
  {
   "cell_type": "code",
   "execution_count": 70,
   "metadata": {},
   "outputs": [
    {
     "name": "stdout",
     "output_type": "stream",
     "text": [
      "<function sum.<locals>.another_fun at 0x000001CDD82167A0>\n"
     ]
    }
   ],
   "source": [
    "#complicated function\n",
    "\n",
    "\n",
    "def sum(num1, num2):\n",
    "    def another_fun(num1, num2):\n",
    "        return(num1 + num2)\n",
    "    return another_fun\n",
    "\n",
    "total = sum(4,8)\n",
    "print(total)"
   ]
  },
  {
   "cell_type": "code",
   "execution_count": 83,
   "metadata": {},
   "outputs": [
    {
     "name": "stdout",
     "output_type": "stream",
     "text": [
      "hemaraju\n"
     ]
    },
    {
     "data": {
      "text/plain": [
       "'Hemaraju'"
      ]
     },
     "execution_count": 83,
     "metadata": {},
     "output_type": "execute_result"
    }
   ],
   "source": [
    "name = 'hemaraju'\n",
    "\n",
    "print(name)\n",
    "\n",
    "name.capitalize()"
   ]
  },
  {
   "cell_type": "code",
   "execution_count": 114,
   "metadata": {},
   "outputs": [
    {
     "name": "stdout",
     "output_type": "stream",
     "text": [
      "<class 'list'>\n",
      "[6, 8, 7, 78, 78]\n",
      "  *\n",
      "    *\n",
      "    *\n",
      "    *\n",
      "    *\n",
      "  "
     ]
    }
   ],
   "source": [
    "#docstrings\n",
    "\n",
    "\n",
    "def func(a):\n",
    "    ''' this function \n",
    "    have nothing to do just takes one parameter\n",
    "    '''\n",
    "    return a\n",
    "\n",
    "a,b,*c = 1,2,6,8,7,78,78\n",
    "print(type(c))\n",
    "print(c)\n",
    "for x in c:\n",
    "    for y in c:\n",
    "        if y == 7:\n",
    "            print('*')\n",
    "        else:\n",
    "            print(\" \",end = '')\n",
    "   \n",
    "\n"
   ]
  },
  {
   "cell_type": "code",
   "execution_count": 2,
   "metadata": {},
   "outputs": [
    {
     "name": "stdout",
     "output_type": "stream",
     "text": [
      "8 = 8 * 1\n",
      "16 = 16 * 2\n",
      "48 = 48 * 3\n",
      "192 = 192 * 4\n",
      "960 = 960 * 5\n",
      "5760 = 5760 * 6\n",
      "40320 = 40320 * 7\n",
      "40320\n"
     ]
    }
   ],
   "source": [
    "def FirstFactorial(num):\n",
    "    for x in range(1,num):\n",
    "        num = num * x\n",
    "        print(f'{num} = {num} * {x}')\n",
    "    return num\n",
    "    \n",
    "\n",
    "print(FirstFactorial(8))"
   ]
  },
  {
   "cell_type": "code",
   "execution_count": 20,
   "metadata": {},
   "outputs": [
    {
     "name": "stdout",
     "output_type": "stream",
     "text": [
      "18\n"
     ]
    }
   ],
   "source": [
    "# product of all the integers\n",
    "\n",
    "fact = 3\n",
    "\n",
    "for x in range (1,fact + 1):\n",
    "    fact = fact * x \n",
    "    \n",
    "print(fact)\n"
   ]
  },
  {
   "cell_type": "code",
   "execution_count": 36,
   "metadata": {},
   "outputs": [
    {
     "name": "stdout",
     "output_type": "stream",
     "text": [
      "10\n"
     ]
    }
   ],
   "source": [
    "# understanding local and global\n",
    "\n",
    "a = 10\n",
    "\n",
    "def myFunc():\n",
    "    global a \n",
    "    return a\n",
    "\n",
    "print(myFunc())\n"
   ]
  },
  {
   "cell_type": "code",
   "execution_count": 25,
   "metadata": {},
   "outputs": [
    {
     "name": "stdout",
     "output_type": "stream",
     "text": [
      "dict_values([['hemaraju', 'chaitra'], {1, 87, 89, 12, 45}])\n",
      "dict_keys(['name', 'age '])\n",
      "dict_keys(['name', 'age '])\n"
     ]
    }
   ],
   "source": [
    "my_dict =  {\n",
    "\n",
    "    'name' : [\"hemaraju\",\"chaitra\"],\n",
    "    \"age \" :{12, 45, 87, 1, 89}\n",
    "            }  \n",
    "\n",
    "            \n",
    "\n",
    "print(my_dict.values())\n",
    "print(my_dict.keys())\n",
    "update_dict = my_dict.keys( )\n",
    "print(update_dict) \n",
    "\n",
    "\n",
    "\n",
    "name = input(\"enter the number\") \n"
   ]
  },
  {
   "cell_type": "code",
   "execution_count": 33,
   "metadata": {},
   "outputs": [
    {
     "name": "stdout",
     "output_type": "stream",
     "text": [
      "running\n",
      "None\n"
     ]
    }
   ],
   "source": [
    "class PlayerCharacter:\n",
    "    def __init__ (self, name):\n",
    "        self.name = name\n",
    "\n",
    "    def run(self):\n",
    "        print(\"running\")\n",
    "\n",
    "player1 = PlayerCharacter\n",
    "print(player1.run('he'))\n"
   ]
  },
  {
   "cell_type": "code",
   "execution_count": 40,
   "metadata": {},
   "outputs": [
    {
     "name": "stdout",
     "output_type": "stream",
     "text": [
      "raj\n",
      "<class 'int'>\n"
     ]
    }
   ],
   "source": [
    "class PlayerCharacter:\n",
    "    def __init__ (self,name):\n",
    "        self.name = name\n",
    "    \n",
    "\n",
    "    def attak(self):\n",
    "        print(\"attacking\")\n",
    "\n",
    "\n",
    "player1 = PlayerCharacter(\"raj\")\n",
    "player1.run_speed = 500\n",
    "\n",
    "print(player1.name)\n",
    "print(type(player1.run_speed))"
   ]
  },
  {
   "cell_type": "code",
   "execution_count": 30,
   "metadata": {},
   "outputs": [
    {
     "name": "stdout",
     "output_type": "stream",
     "text": [
      "125\n"
     ]
    }
   ],
   "source": [
    "class Player:\n",
    "    def __init__(self,name,score):\n",
    "        self.name = name\n",
    "        self.score = score\n",
    "\n",
    "\n",
    "    def IsRunning(self):\n",
    "        if self.score > 40:\n",
    "            print(\"yeah, he can run\")\n",
    "        else:\n",
    "            return self.score \n",
    "\n",
    "    @classmethod \n",
    "    def addingThings(cls, num1, num2):\n",
    "        return num1 +num2\n",
    "\n",
    "print(Player.addingThings(47,78))"
   ]
  },
  {
   "cell_type": "code",
   "execution_count": 13,
   "metadata": {},
   "outputs": [
    {
     "name": "stdout",
     "output_type": "stream",
     "text": [
      "100\n"
     ]
    }
   ],
   "source": [
    "#inheritanc\n",
    "\n",
    "class User():\n",
    "    def sig_in(self):\n",
    "        print(\"logged in\")\n",
    "\n",
    "class archer(User):\n",
    "    pass\n",
    "\n",
    "class runner(User):\n",
    "    def __init__(self, name ,power):\n",
    "        self.name = name\n",
    "        self.power = power\n",
    "\n",
    "\n",
    "\n",
    "archer1 = archer()\n",
    "Runner1 = runner(\"raj\", 100)\n",
    "\n",
    "print(Runner1.power)\n"
   ]
  },
  {
   "cell_type": "code",
   "execution_count": 34,
   "metadata": {},
   "outputs": [
    {
     "name": "stdout",
     "output_type": "stream",
     "text": [
      "logged in\n",
      "None\n",
      "attacking meck with the power of 80\n",
      "None\n",
      "attacking with arrows- arrows left 500\n",
      "None\n",
      "True\n",
      "True\n",
      "attacking meck with the power of 80\n"
     ]
    }
   ],
   "source": [
    "class User():\n",
    "    def is_signedin(self):\n",
    "        print(\"logged in\")\n",
    "\n",
    "class Wizard(User):\n",
    "    def __init__(self,name, power):\n",
    "        self.name = name\n",
    "        self.power = power\n",
    "\n",
    "\n",
    "    def Attack(self):\n",
    "        print(f'attacking {self.name} with the power of {self.power}')\n",
    "\n",
    "class Archer(User):\n",
    "    \"\"\" this is inherited class\"\"\"\n",
    "    def __init__(self,name, arrows):\n",
    "        self.name = name\n",
    "        self.arrows  = arrows\n",
    "\n",
    "    def Attack(self):\n",
    "        print(f'attacking with arrows- arrows left {self.arrows}')\n",
    "\n",
    "\n",
    "User1 = User()\n",
    "\n",
    "print(User1.is_signedin())\n",
    "\n",
    "\n",
    "Wizard1 = Wizard(\"meck\", 80)\n",
    "print(Wizard1.Attack())\n",
    "\n",
    "Archer1 = Archer(\"john\", 500)\n",
    "print(Archer1.Attack())\n",
    "\n",
    "print(isinstance(Wizard1, User))\n",
    "print(isinstance(Archer1, User))\n",
    "\n",
    "def new_attack(bot):\n",
    "    bot.Attack()\n",
    "\n",
    "new_attack(Wizard1)\n"
   ]
  },
  {
   "cell_type": "code",
   "execution_count": 3,
   "metadata": {},
   "outputs": [
    {
     "name": "stdout",
     "output_type": "stream",
     "text": [
      "78\n"
     ]
    }
   ],
   "source": [
    "#Consistency and structured pratice can land you in amazon, google, facebook or whereever you wish\n",
    "\n",
    "\n",
    "class Member():\n",
    "    def is_member(self):\n",
    "        print(\"yes he had voter id\")\n",
    "\n",
    "\n",
    "    def __init__(self, member_num):\n",
    "        self.member_num = member_num\n",
    "person1 = Member(78)\n",
    "print(person1.member_num)"
   ]
  },
  {
   "cell_type": "code",
   "execution_count": 29,
   "metadata": {},
   "outputs": [
    {
     "name": "stdout",
     "output_type": "stream",
     "text": [
      "4\n"
     ]
    }
   ],
   "source": [
    "name = 'hemaraju hem raj'\n",
    "\n",
    "print(name.index('raj'))\n"
   ]
  },
  {
   "cell_type": "code",
   "execution_count": 27,
   "metadata": {},
   "outputs": [
    {
     "ename": "TypeError",
     "evalue": "'int' object is not iterable",
     "output_type": "error",
     "traceback": [
      "\u001b[1;31m---------------------------------------------------------------------------\u001b[0m",
      "\u001b[1;31mTypeError\u001b[0m                                 Traceback (most recent call last)",
      "Cell \u001b[1;32mIn [27], line 11\u001b[0m\n\u001b[0;32m      8\u001b[0m         \u001b[38;5;28;01mfor\u001b[39;00m x \u001b[38;5;129;01min\u001b[39;00m \u001b[38;5;28mrange\u001b[39m(new_item):\n\u001b[0;32m      9\u001b[0m             \u001b[38;5;28mprint\u001b[39m(x , end\u001b[38;5;241m=\u001b[39m \u001b[38;5;124m\"\u001b[39m\u001b[38;5;124m \u001b[39m\u001b[38;5;124m\"\u001b[39m)\n\u001b[1;32m---> 11\u001b[0m \u001b[38;5;28mprint\u001b[39m(\u001b[38;5;28;43mlist\u001b[39;49m\u001b[43m(\u001b[49m\u001b[38;5;28;43mmap\u001b[39;49m\u001b[43m(\u001b[49m\u001b[43mmul_by2\u001b[49m\u001b[43m,\u001b[49m\u001b[43mli\u001b[49m\u001b[43m)\u001b[49m\u001b[43m)\u001b[49m)\n",
      "Cell \u001b[1;32mIn [27], line 5\u001b[0m, in \u001b[0;36mmul_by2\u001b[1;34m(li)\u001b[0m\n\u001b[0;32m      4\u001b[0m \u001b[38;5;28;01mdef\u001b[39;00m \u001b[38;5;21mmul_by2\u001b[39m(li):\n\u001b[1;32m----> 5\u001b[0m     \u001b[38;5;28;01mfor\u001b[39;00m item \u001b[38;5;129;01min\u001b[39;00m li:\n\u001b[0;32m      6\u001b[0m         new_item \u001b[38;5;241m=\u001b[39m item \u001b[38;5;241m*\u001b[39m item\n\u001b[0;32m      7\u001b[0m         \u001b[38;5;28mprint\u001b[39m(new_item)\n",
      "\u001b[1;31mTypeError\u001b[0m: 'int' object is not iterable"
     ]
    }
   ],
   "source": [
    "li = [1,2,3,4,5,6]\n",
    "\n",
    "\n",
    "def mul_by2(li):\n",
    "    for item in li:\n",
    "        new_item = item * item\n",
    "        print(new_item)\n",
    "        for x in range(new_item):\n",
    "            print(x , end= \" \")\n",
    "        \n",
    "print(list(map(mul_by2,li)))"
   ]
  },
  {
   "cell_type": "code",
   "execution_count": 24,
   "metadata": {},
   "outputs": [
    {
     "ename": "TypeError",
     "evalue": "'int' object is not iterable",
     "output_type": "error",
     "traceback": [
      "\u001b[1;31m---------------------------------------------------------------------------\u001b[0m",
      "\u001b[1;31mTypeError\u001b[0m                                 Traceback (most recent call last)",
      "Cell \u001b[1;32mIn [24], line 8\u001b[0m\n\u001b[0;32m      5\u001b[0m     \u001b[38;5;28;01mfor\u001b[39;00m x \u001b[38;5;129;01min\u001b[39;00m \u001b[38;5;28mrange\u001b[39m(num):\n\u001b[0;32m      6\u001b[0m         \u001b[38;5;28mprint\u001b[39m(\u001b[38;5;124m\"\u001b[39m\u001b[38;5;124mx\u001b[39m\u001b[38;5;124m\"\u001b[39m)\n\u001b[1;32m----> 8\u001b[0m \u001b[38;5;28;43mmap\u001b[39;49m\u001b[43m(\u001b[49m\u001b[43mstar_printer\u001b[49m\u001b[43m,\u001b[49m\u001b[43m \u001b[49m\u001b[38;5;241;43m45\u001b[39;49m\u001b[43m)\u001b[49m\n",
      "\u001b[1;31mTypeError\u001b[0m: 'int' object is not iterable"
     ]
    }
   ],
   "source": [
    "#functional programming\n",
    "\n",
    "\n",
    "def star_printer(num):\n",
    "    for x in range(num):\n",
    "        print(\"x\")\n",
    "\n",
    "map(star_printer, 45)"
   ]
  },
  {
   "cell_type": "code",
   "execution_count": 36,
   "metadata": {},
   "outputs": [
    {
     "name": "stdout",
     "output_type": "stream",
     "text": [
      "[2, 4, 6, 8, 10, 12]\n"
     ]
    }
   ],
   "source": [
    "def mul_two(item):\n",
    "    return item*2\n",
    "\n",
    "print(list(map(mul_two, [1,2,3,4,5,6])))"
   ]
  },
  {
   "cell_type": "code",
   "execution_count": 41,
   "metadata": {},
   "outputs": [
    {
     "name": "stdout",
     "output_type": "stream",
     "text": [
      "['12', '45', '34']\n"
     ]
    }
   ],
   "source": [
    "num = input().split()\n",
    "print(num)\n",
    "\n",
    "num = list(map(int, num))"
   ]
  },
  {
   "cell_type": "code",
   "execution_count": 12,
   "metadata": {},
   "outputs": [
    {
     "name": "stdout",
     "output_type": "stream",
     "text": [
      "do some stuff everyday\n",
      "hem\n"
     ]
    }
   ],
   "source": [
    "class MainActivity():\n",
    "    def __init__(self,activities):\n",
    "        self.activities = activities\n",
    "        print(activities)\n",
    "\n",
    "\n",
    "\n",
    "taas1 = MainActivity(\"do some stuff everyday\")\n",
    "\n",
    "\n",
    "\n",
    "\n",
    "class SubActivity(MainActivity):\n",
    "\n",
    "    def Can_do_activity(name):\n",
    "        print(name)\n",
    "\n",
    "task2 = SubActivity('hem')"
   ]
  },
  {
   "cell_type": "code",
   "execution_count": 23,
   "metadata": {},
   "outputs": [
    {
     "name": "stdout",
     "output_type": "stream",
     "text": [
      "[78, 4, 51, 12, 36, 89]\n"
     ]
    }
   ],
   "source": [
    "num = input().split()\n",
    "num = list(map(int, num))\n",
    "\n",
    "print(num)\n",
    "\n",
    "\n",
    "\n",
    "def printer():\n",
    "    for x in num:\n",
    "        return x"
   ]
  },
  {
   "cell_type": "code",
   "execution_count": null,
   "metadata": {},
   "outputs": [],
   "source": []
  },
  {
   "cell_type": "code",
   "execution_count": 4,
   "metadata": {},
   "outputs": [
    {
     "name": "stdout",
     "output_type": "stream",
     "text": [
      "None\n"
     ]
    }
   ],
   "source": [
    "def is_leap(year):\n",
    "    leap = False\n",
    "\n",
    "\n",
    "    if (year % 4) == 0:\n",
    "        leap = True\n",
    "    else:\n",
    "        leap  = False\n",
    "\n",
    "print(is_leap(2000))\n"
   ]
  },
  {
   "cell_type": "code",
   "execution_count": 11,
   "metadata": {},
   "outputs": [
    {
     "name": "stdout",
     "output_type": "stream",
     "text": [
      "100.0\n"
     ]
    }
   ],
   "source": [
    "print(200 / 2)"
   ]
  },
  {
   "cell_type": "code",
   "execution_count": 23,
   "metadata": {
    "tags": []
   },
   "outputs": [
    {
     "name": "stdout",
     "output_type": "stream",
     "text": [
      "he\n",
      "2 8\n"
     ]
    }
   ],
   "source": [
    "def merge_the_tools(string, k):\n",
    "    length = len(string)\n",
    "    sub_string = int(length / k)\n",
    "    \n",
    "\n",
    "    print(string[0:sub_string])\n",
    "    print(sub_string, length)\n",
    "\n",
    "\n",
    "merge_the_tools('hemaraju', 3)\n"
   ]
  },
  {
   "cell_type": "code",
   "execution_count": 1,
   "metadata": {},
   "outputs": [
    {
     "name": "stdout",
     "output_type": "stream",
     "text": [
      "hi\n"
     ]
    }
   ],
   "source": [
    "print(\"hi\")"
   ]
  },
  {
   "cell_type": "code",
   "execution_count": 7,
   "metadata": {},
   "outputs": [
    {
     "name": "stdout",
     "output_type": "stream",
     "text": [
      "[0, 2, 4, 6, 8, 10, 12, 14, 16, 18, 20, 22, 24, 26, 28, 30, 32, 34, 36, 38] [0, 1, 2, 3, 4, 5, 6, 7, 8, 9, 10, 11, 12, 13, 14, 15, 16, 17, 18, 19]\n"
     ]
    }
   ],
   "source": [
    "#functional programming\n",
    "\n",
    "some_list = list(range(20))\n",
    "def multi(item):\n",
    "    return item*2\n",
    "\n",
    "new_list = list(map(multi, [4,5,7,8]))\n",
    "other_list = list(map(multi, some_list))\n",
    "\n",
    "print(other_list, some_list)\n",
    "\n"
   ]
  },
  {
   "cell_type": "code",
   "execution_count": 15,
   "metadata": {},
   "outputs": [
    {
     "name": "stdout",
     "output_type": "stream",
     "text": [
      "[1, 3, 5, 7, 9]\n"
     ]
    }
   ],
   "source": [
    "#filter\n",
    "\n",
    "lis = list(range(10))\n",
    "\n",
    "def only_odd(item):\n",
    "    return item % 2 != 0\n",
    "\n",
    "\n",
    "print(list(filter(only_odd, lis)))\n"
   ]
  },
  {
   "cell_type": "code",
   "execution_count": 26,
   "metadata": {},
   "outputs": [
    {
     "name": "stdout",
     "output_type": "stream",
     "text": [
      "result is  <filter object at 0x00000168B9F07B80>\n",
      "a\n",
      "u\n",
      "i\n"
     ]
    }
   ],
   "source": [
    "from operator import truediv\n",
    "\n",
    "\n",
    "def fun(variables):\n",
    "\n",
    "    letters = ['a','e','i','o','u']\n",
    "    if (variables in letters):\n",
    "        return True\n",
    "    else:\n",
    "        return False\n",
    "\n",
    "sequence = ['a','n','p','u','i','n']\n",
    "\n",
    "result = filter(fun,sequence)\n",
    "print('result is ', result)\n",
    "for s in result:\n",
    "    print(s)\n"
   ]
  },
  {
   "cell_type": "code",
   "execution_count": 29,
   "metadata": {},
   "outputs": [
    {
     "name": "stdout",
     "output_type": "stream",
     "text": [
      "[(0, 10), (1, 11), (2, 12), (3, 13), (4, 14), (5, 15), (6, 16), (7, 17), (8, 18), (9, 19)]\n"
     ]
    }
   ],
   "source": [
    "#zip\n",
    "\n",
    "\n",
    "your_list = list(range(10))\n",
    "my_list = list(range(10,20))\n",
    "\n",
    "result = list(zip(your_list,my_list))\n",
    "\n",
    "print(result)\n"
   ]
  },
  {
   "cell_type": "code",
   "execution_count": 2,
   "metadata": {},
   "outputs": [
    {
     "name": "stdout",
     "output_type": "stream",
     "text": [
      "[1, 4, 9, 16]\n"
     ]
    }
   ],
   "source": [
    "#lambda\n",
    "my_list = [1,2,3,4]\n",
    "\n",
    "print(list(map(lambda item: item**2, my_list)))"
   ]
  },
  {
   "cell_type": "code",
   "execution_count": 5,
   "metadata": {},
   "outputs": [
    {
     "name": "stdout",
     "output_type": "stream",
     "text": [
      "['hh', 'eh', 'mh', 'ah', 'rh', 'ah', 'jh', 'uh']\n"
     ]
    }
   ],
   "source": [
    "string = 'hemaraju'\n",
    "\n",
    "\n",
    "print(list(map(lambda strin : strin +'h',string)))"
   ]
  },
  {
   "cell_type": "code",
   "execution_count": 18,
   "metadata": {},
   "outputs": [
    {
     "name": "stdout",
     "output_type": "stream",
     "text": [
      "[(8, 1), (1, 2), (3, 6), (6, 90)]\n"
     ]
    }
   ],
   "source": [
    "my_list = [(1,2),(3,6),(8,1),(6,90)]\n",
    "\n",
    "my_list.sort(key = lambda x: x[1])\n",
    "\n",
    "print(my_list)"
   ]
  },
  {
   "cell_type": "code",
   "execution_count": 34,
   "metadata": {},
   "outputs": [
    {
     "name": "stdout",
     "output_type": "stream",
     "text": [
      "['h', 'e', 'm', 'a', 'r', 'j', 'u']\n"
     ]
    }
   ],
   "source": [
    "name = 'hemarju'\n",
    "\n",
    "lis = []\n",
    "\n",
    "for c in name:\n",
    "\n",
    "   \n",
    "\n",
    "    lis.append(c)\n",
    "    \n",
    "\n",
    "\n",
    "print(lis)"
   ]
  },
  {
   "cell_type": "code",
   "execution_count": 44,
   "metadata": {},
   "outputs": [
    {
     "name": "stdout",
     "output_type": "stream",
     "text": [
      "[0, 1, 2, 3, 4, 5, 6, 7, 8, 9]\n",
      "[2, 3, 4, 5, 6, 7, 8, 9, 10, 11]\n"
     ]
    }
   ],
   "source": [
    "#list comprehension\n",
    "\n",
    "my_list = [ char for char in range(10)]\n",
    "\n",
    "print(my_list)\n",
    "\n",
    "my_data = set(map(int, my_list))\n",
    "def super(item):\n",
    "    return item + 2\n",
    "new = list(map(super,my_data))\n",
    "print(new)"
   ]
  },
  {
   "cell_type": "code",
   "execution_count": 46,
   "metadata": {},
   "outputs": [
    {
     "ename": "AttributeError",
     "evalue": "'function' object has no attribute 'help'",
     "output_type": "error",
     "traceback": [
      "\u001b[1;31m---------------------------------------------------------------------------\u001b[0m",
      "\u001b[1;31mAttributeError\u001b[0m                            Traceback (most recent call last)",
      "Cell \u001b[1;32mIn [46], line 6\u001b[0m\n\u001b[0;32m      2\u001b[0m     \u001b[39m\"\"\" i created this function to help you\"\"\"\u001b[39;00m\n\u001b[0;32m      3\u001b[0m     \u001b[39mpass\u001b[39;00m\n\u001b[1;32m----> 6\u001b[0m my_func\u001b[39m.\u001b[39;49mhelp()\n",
      "\u001b[1;31mAttributeError\u001b[0m: 'function' object has no attribute 'help'"
     ]
    }
   ],
   "source": [
    "def my_func(param):\n",
    "    \"\"\" i created this function to help you\"\"\"\n",
    "    pass\n"
   ]
  },
  {
   "cell_type": "code",
   "execution_count": null,
   "metadata": {},
   "outputs": [],
   "source": [
    "nums = [num for num in range(50)]\n",
    "\n",
    "\n",
    "result = list(map(lambda x: x*2, nums))\n",
    "\n",
    "\n",
    "print(result)"
   ]
  },
  {
   "cell_type": "code",
   "execution_count": null,
   "metadata": {},
   "outputs": [],
   "source": [
    "#Don't worry my dear, i am always safe.\n",
    "\n",
    "#Dear Anu be well soon, \n",
    "\n",
    "# i want to talk to youuuu😀"
   ]
  },
  {
   "cell_type": "code",
   "execution_count": 56,
   "metadata": {},
   "outputs": [
    {
     "name": "stdout",
     "output_type": "stream",
     "text": [
      "[4, 36]\n"
     ]
    }
   ],
   "source": [
    "#list comprehension: way for us to create lsit faster\n",
    "\n",
    "list1 = [num**2 for num in range(10) if num % 2 == 0 and num == 2 or num == 6]\n",
    "\n",
    "\n",
    "print(list1)"
   ]
  },
  {
   "cell_type": "code",
   "execution_count": 70,
   "metadata": {},
   "outputs": [
    {
     "name": "stdout",
     "output_type": "stream",
     "text": [
      "{1: 2, 2: 4, 3: 6, 4: 8}\n"
     ]
    }
   ],
   "source": [
    "#dictionary comprehension\n",
    "\n",
    "my_dict = {num:num*2 for num in [1,2,3,4]}\n",
    "\n",
    "\n",
    "\n",
    "dict1 = {k:v for k,v in my_dict.items() if v % 2 ==0}\n",
    "\n",
    "print(my_dict)"
   ]
  },
  {
   "cell_type": "code",
   "execution_count": 79,
   "metadata": {},
   "outputs": [
    {
     "name": "stdout",
     "output_type": "stream",
     "text": [
      "2\n",
      "{'d', 'a'}\n"
     ]
    }
   ],
   "source": [
    "duplicate  = ['a','b','c','d','d','e','f','g','a']\n",
    "print(duplicate.count('a'))\n",
    "result = set([num for num in duplicate if duplicate.count(num) > 1 ])\n",
    "print(result)"
   ]
  },
  {
   "cell_type": "code",
   "execution_count": 97,
   "metadata": {},
   "outputs": [
    {
     "name": "stdout",
     "output_type": "stream",
     "text": [
      "None\n"
     ]
    }
   ],
   "source": [
    "def first_func():\n",
    "    \n",
    "    def second_func():\n",
    "        print(\"ha\")\n",
    "\n",
    "    return \n",
    "\n",
    "\n",
    "print(first_func())"
   ]
  },
  {
   "cell_type": "code",
   "execution_count": 9,
   "metadata": {},
   "outputs": [
    {
     "name": "stdout",
     "output_type": "stream",
     "text": [
      "not divided is 1\n",
      "not divided is 3\n",
      "not divided is 5\n",
      "not divided is 7\n",
      "not divided is 9\n"
     ]
    }
   ],
   "source": [
    "def is_odd(num):\n",
    "    if num % 2 != 0:\n",
    "        return num\n",
    "\n",
    "\n",
    "new_lis = list(filter(is_odd, [num for num in range(10)]))\n",
    "\n",
    "for x in new_lis:\n",
    "    print(f'not divided is {x}')\n"
   ]
  },
  {
   "cell_type": "code",
   "execution_count": 21,
   "metadata": {},
   "outputs": [
    {
     "name": "stdout",
     "output_type": "stream",
     "text": [
      "5.75\n"
     ]
    }
   ],
   "source": [
    "(b := (46 /8))\n",
    "\n",
    "print(b)\n",
    "num = 29\n",
    "\n",
    "if (a := num % 2 == 0):\n",
    "    print('Weird')\n",
    "\n",
    "\n",
    "elif a > 20:\n",
    "    print(\"Not Weird\")\n"
   ]
  },
  {
   "cell_type": "code",
   "execution_count": null,
   "metadata": {},
   "outputs": [],
   "source": [
    "string = 'welcome to Hemagiri Studio'\n",
    "\n",
    "for _ in range(20):\n",
    "    print(string)"
   ]
  },
  {
   "cell_type": "code",
   "execution_count": 1,
   "metadata": {},
   "outputs": [
    {
     "name": "stdout",
     "output_type": "stream",
     "text": [
      "ha ha hahahah\n",
      "ha ha hahahah\n",
      "ha ha hahahah\n",
      "ha ha hahahah\n",
      "ha ha hahahah\n",
      "ha ha hahahah\n",
      "ha ha hahahah\n",
      "ha ha hahahah\n",
      "ha ha hahahah\n",
      "ha ha hahahah\n",
      "ha ha hahahah\n",
      "ha ha hahahah\n",
      "ha ha hahahah\n",
      "ha ha hahahah\n",
      "ha ha hahahah\n",
      "ha ha hahahah\n",
      "ha ha hahahah\n",
      "ha ha hahahah\n",
      "ha ha hahahah\n",
      "ha ha hahahah\n"
     ]
    }
   ],
   "source": [
    "num = 0\n",
    "while num < 20:\n",
    "    print(\"ha ha hahahah\")\n",
    "\n",
    "\n",
    "    num = num + 1\n",
    "\n"
   ]
  },
  {
   "cell_type": "code",
   "execution_count": 8,
   "metadata": {},
   "outputs": [
    {
     "name": "stdout",
     "output_type": "stream",
     "text": [
      "19\n"
     ]
    }
   ],
   "source": [
    "num = int(input())\n",
    "\n",
    "if (10 < num < 20):\n",
    "    print(num)\n",
    "\n",
    "else:\n",
    "    print(\"huhhh\")\n"
   ]
  },
  {
   "cell_type": "code",
   "execution_count": 6,
   "metadata": {},
   "outputs": [
    {
     "name": "stdout",
     "output_type": "stream",
     "text": [
      "welcome to decorators\n",
      "h 0\n",
      "e 1\n",
      "m 2\n",
      "a 3\n",
      "r 4\n",
      "a 3\n",
      "j 6\n",
      "u 7\n"
     ]
    }
   ],
   "source": [
    "#lets start learning Decorators\n",
    "\n",
    "\n",
    "print(\"welcome to decorators\")\n",
    "\n",
    "string = 'hemaraju'\n",
    "\n",
    "for x in string:\n",
    "    print(x, string.index(x))"
   ]
  },
  {
   "cell_type": "code",
   "execution_count": 7,
   "metadata": {},
   "outputs": [
    {
     "name": "stdout",
     "output_type": "stream",
     "text": [
      "0b1001110\n"
     ]
    }
   ],
   "source": [
    "print(bin(78))"
   ]
  },
  {
   "cell_type": "code",
   "execution_count": null,
   "metadata": {},
   "outputs": [],
   "source": []
  },
  {
   "cell_type": "code",
   "execution_count": 3,
   "metadata": {},
   "outputs": [
    {
     "name": "stdout",
     "output_type": "stream",
     "text": [
      "[-1, -1, -1, -1, -1, -1, -1, -1, -1, -1]\n"
     ]
    }
   ],
   "source": [
    "lis = [ -1 for j in range(10)]\n",
    "print(lis)"
   ]
  },
  {
   "cell_type": "code",
   "execution_count": 7,
   "metadata": {},
   "outputs": [
    {
     "name": "stdout",
     "output_type": "stream",
     "text": [
      "[[-1, -1], [-1, -1]]\n"
     ]
    }
   ],
   "source": [
    "   ans = 2,2\n",
    "   res = [[-1 for j in range(2)] for i in range(len(ans))]\n",
    "   print(res)"
   ]
  },
  {
   "cell_type": "code",
   "execution_count": 10,
   "metadata": {},
   "outputs": [
    {
     "name": "stdout",
     "output_type": "stream",
     "text": [
      "[[0, 1], [0, 1], [0, 1], [0, 1], [0, 1]]\n"
     ]
    }
   ],
   "source": [
    "#list comprehension\n",
    "\n",
    "result = [[y for y in range(2) ]for num in range(5)]\n",
    "\n",
    "print(result)"
   ]
  },
  {
   "cell_type": "code",
   "execution_count": 17,
   "metadata": {},
   "outputs": [
    {
     "data": {
      "text/plain": [
       "[[0, 5], [1, 4], [2, 3]]"
      ]
     },
     "execution_count": 17,
     "metadata": {},
     "output_type": "execute_result"
    }
   ],
   "source": [
    "def pairSum(arr, s):\n",
    "    n = len(arr)\n",
    "\n",
    "    # Used to store result.\n",
    "    ans = []\n",
    "    \n",
    "    # Checking sum for every element.\n",
    "    for i in range(n):\n",
    "        \n",
    "        for j in range(i + 1, n):\n",
    "            \n",
    "            if (arr[i] + arr[j] == s):\n",
    "                pair = [-1 for i in range(2)]\n",
    "                pair[0] = arr[i]\n",
    "                pair[1] = arr[j]\n",
    "                ans.append(pair)\n",
    "    return ans\n",
    "pairSum([x for x in range(10)], 5)\n"
   ]
  },
  {
   "cell_type": "code",
   "execution_count": 22,
   "metadata": {},
   "outputs": [
    {
     "name": "stdout",
     "output_type": "stream",
     "text": [
      "0 5\n",
      "1 4\n",
      "2 3\n"
     ]
    }
   ],
   "source": [
    "def sumpair(arr, s):\n",
    "\n",
    "    n = len(arr)\n",
    "\n",
    "    ans = []\n",
    "\n",
    "\n",
    "    for x in range(n):\n",
    "\n",
    "        for y in range(x+1, n):\n",
    "\n",
    "            if (arr[x] + arr[y] == s):\n",
    "                print(arr[x] , arr[y])\n",
    "                ans.append()\n",
    "\n",
    "sumpair([x for x in range(10)],5)"
   ]
  },
  {
   "cell_type": "code",
   "execution_count": 15,
   "metadata": {},
   "outputs": [
    {
     "name": "stdout",
     "output_type": "stream",
     "text": [
      "*********************\n",
      "hiiii\n",
      "**********************\n"
     ]
    }
   ],
   "source": [
    "#decorators\n",
    "\n",
    "def my_decorator(func):\n",
    "    def another_fun():\n",
    "        print(\"*********************\")\n",
    "        func()\n",
    "        print(\"**********************\")\n",
    "    return another_fun\n",
    "\n",
    "\n",
    "@my_decorator\n",
    "def hello():\n",
    "    print(\"hiiii\")\n",
    "\n",
    "\n",
    "hello()"
   ]
  },
  {
   "cell_type": "code",
   "execution_count": 26,
   "metadata": {},
   "outputs": [
    {
     "name": "stdout",
     "output_type": "stream",
     "text": [
      "***\n",
      "i am main function\n"
     ]
    }
   ],
   "source": [
    "def main_fun(var):\n",
    "\n",
    "    var()\n",
    "    print(\"i am main function\")\n",
    "\n",
    "def sub_fun(able):\n",
    "    print(\"i am sub function\")\n",
    "\n",
    "@main_fun\n",
    "def hello():\n",
    "    print(\"***\")\n",
    "\n"
   ]
  },
  {
   "cell_type": "code",
   "execution_count": 38,
   "metadata": {},
   "outputs": [
    {
     "name": "stdout",
     "output_type": "stream",
     "text": [
      "took 59.557278871536255\n"
     ]
    }
   ],
   "source": [
    "from time import time\n",
    "from types import WrapperDescriptorType\n",
    "\n",
    "def performance(fn):\n",
    "    def wrapper(*args, **kawargs):\n",
    "        t1 = time()\n",
    "        result =  fn(*args, **kawargs)\n",
    "        t2 = time()\n",
    "\n",
    "        print('took', (t2 - t1))\n",
    "\n",
    "        return result\n",
    "    return wrapper\n",
    "\n",
    "@performance\n",
    "def long_fun():\n",
    "    for i in range(1000000000):\n",
    "        i *5\n",
    "\n",
    "long_fun()"
   ]
  },
  {
   "cell_type": "code",
   "execution_count": 41,
   "metadata": {},
   "outputs": [
    {
     "name": "stdout",
     "output_type": "stream",
     "text": [
      "autenticted\n"
     ]
    }
   ],
   "source": [
    "user1 = {\n",
    "    'name': 'hem',\n",
    "    'valid' :True\n",
    "}\n",
    "\n",
    "def autenticated(fn):\n",
    "    def auth(user):\n",
    "        if user['valid']:\n",
    "            print(\"autenticted\")\n",
    "        else:\n",
    "            print(\"no autenticated\")\n",
    "\n",
    "\n",
    "    return auth\n",
    "@autenticated\n",
    "def message_friend(user):\n",
    "    print('message has been sent')\n",
    "\n",
    "message_friend(user1)"
   ]
  },
  {
   "cell_type": "code",
   "execution_count": 4,
   "metadata": {},
   "outputs": [
    {
     "name": "stdout",
     "output_type": "stream",
     "text": [
      "enter age\n"
     ]
    }
   ],
   "source": [
    "#error handling\n",
    "try:\n",
    "    age = int(input(\"enter your age\"))\n",
    "except:\n",
    "    print(\"enter age\")\n"
   ]
  },
  {
   "cell_type": "code",
   "execution_count": 34,
   "metadata": {},
   "outputs": [
    {
     "name": "stdout",
     "output_type": "stream",
     "text": [
      "hi welcome hemaraju\n",
      "**************\n"
     ]
    }
   ],
   "source": [
    "#decorators\n",
    "def performance(func):\n",
    "\n",
    "    def wraper(name):\n",
    "\n",
    "        func(name)\n",
    "\n",
    "        print(\"**************\")\n",
    "\n",
    "    return wraper\n",
    "\n",
    "@performance\n",
    "def hello(name):\n",
    "    print(\"hi welcome\", name)\n",
    "\n",
    "hello('hemaraju')"
   ]
  },
  {
   "cell_type": "code",
   "execution_count": null,
   "metadata": {},
   "outputs": [],
   "source": [
    "print(lis)"
   ]
  },
  {
   "cell_type": "code",
   "execution_count": 2,
   "metadata": {},
   "outputs": [
    {
     "name": "stdout",
     "output_type": "stream",
     "text": [
      "dict_items([('name', ['hemaraju', 'raju']), ('age', [19, 21])])\n"
     ]
    }
   ],
   "source": [
    "dict = {\n",
    "    'name' : ['hemaraju', 'raju'],\n",
    "    'age' : [ 19, 21]\n",
    "\n",
    "\n",
    "}\n",
    "\n",
    "print(dict.items())"
   ]
  },
  {
   "cell_type": "code",
   "execution_count": 7,
   "metadata": {},
   "outputs": [
    {
     "name": "stdout",
     "output_type": "stream",
     "text": [
      "[[5, 3], [3], [3, 3]]\n"
     ]
    }
   ],
   "source": [
    "dct = {'a': 3, 'b': 3, 'c': 5, 'd': 3}    \n",
    "\n",
    "lst = [['c', 'd'], ['a'], ['b', 'd']]\n",
    "\n",
    "result = [[dct[e] for e in lst[idx]] for idx in range(len(lst))]\n",
    "print(result)"
   ]
  },
  {
   "cell_type": "code",
   "execution_count": 16,
   "metadata": {},
   "outputs": [
    {
     "name": "stdout",
     "output_type": "stream",
     "text": [
      "[5, 3, 3, 3, 3]\n"
     ]
    }
   ],
   "source": [
    "m = {'a':3, 'b':3, 'c':5, 'd':3}\n",
    "l = ['c', 'd', 'a', 'b', 'd']\n",
    "\n",
    "res = [m[k] for k in l]\n",
    "print(res)"
   ]
  },
  {
   "cell_type": "code",
   "execution_count": 3,
   "metadata": {},
   "outputs": [
    {
     "name": "stdout",
     "output_type": "stream",
     "text": [
      "[0, 1, 2, 3, 4, 5, 6, 7, 8, 9]\n"
     ]
    }
   ],
   "source": [
    "lis = [y for y in range(10)]\n",
    "\n",
    "print(lis)"
   ]
  },
  {
   "cell_type": "code",
   "execution_count": 7,
   "metadata": {},
   "outputs": [
    {
     "name": "stdout",
     "output_type": "stream",
     "text": [
      "['hem', 'hyming']\n"
     ]
    }
   ],
   "source": [
    "lis = ['hem','raj','josh','hyming']\n",
    "\n",
    "\n",
    "res = [letter for letter in lis if letter.startswith(\"h\")]\n",
    "            \n",
    "print(res)"
   ]
  },
  {
   "cell_type": "code",
   "execution_count": 9,
   "metadata": {},
   "outputs": [
    {
     "name": "stdout",
     "output_type": "stream",
     "text": [
      "[8, -32, 20]\n"
     ]
    }
   ],
   "source": [
    "v = [2,-8,5]\n",
    "\n",
    "w = [4*x for x in v]\n",
    "\n",
    "print(w)"
   ]
  },
  {
   "cell_type": "code",
   "execution_count": 13,
   "metadata": {},
   "outputs": [
    {
     "name": "stdout",
     "output_type": "stream",
     "text": [
      "[0, 8, 64, 216, 512]\n"
     ]
    }
   ],
   "source": [
    "res = [v**3 for v in range(10) if v %2 ==0]\n",
    "print(res)"
   ]
  },
  {
   "cell_type": "code",
   "execution_count": 1,
   "metadata": {},
   "outputs": [
    {
     "name": "stdout",
     "output_type": "stream",
     "text": [
      "[1, 2, 3, 4, 1, 2, 3, 4, 1, 2, 3, 4, 1, 2, 3, 4]\n"
     ]
    }
   ],
   "source": [
    "vim = [1,2,3,4]\n",
    "v = vim*4\n",
    "\n",
    "print(v)"
   ]
  },
  {
   "cell_type": "code",
   "execution_count": 4,
   "metadata": {},
   "outputs": [
    {
     "name": "stdout",
     "output_type": "stream",
     "text": [
      "[(1, 'a'), (1, 'b'), (1, 'c'), (1, 'd'), (1, 'r'), (2, 'a'), (2, 'b'), (2, 'c'), (2, 'd'), (2, 'r'), (3, 'a'), (3, 'b'), (3, 'c'), (3, 'd'), (3, 'r'), (4, 'a'), (4, 'b'), (4, 'c'), (4, 'd'), (4, 'r'), (5, 'a'), (5, 'b'), (5, 'c'), (5, 'd'), (5, 'r'), (6, 'a'), (6, 'b'), (6, 'c'), (6, 'd'), (6, 'r')]\n"
     ]
    }
   ],
   "source": [
    "# list comprehension to compute the cortesian product of sets   \n",
    "\n",
    "a = [1,2,3,4,5,6]\n",
    "b = ['a','b','c','d','r']\n",
    "\n",
    "car_prod = [(A,B) for A in a for B in b]\n",
    "print(car_prod)"
   ]
  },
  {
   "cell_type": "code",
   "execution_count": 43,
   "metadata": {},
   "outputs": [
    {
     "data": {
      "text/plain": [
       "[(1, 'a'),\n",
       " (1, 'b'),\n",
       " (1, 'c'),\n",
       " (1, 'd'),\n",
       " (1, 'r'),\n",
       " (2, 'a'),\n",
       " (2, 'b'),\n",
       " (2, 'c'),\n",
       " (2, 'd'),\n",
       " (2, 'r'),\n",
       " (3, 'a'),\n",
       " (3, 'b'),\n",
       " (3, 'c'),\n",
       " (3, 'd'),\n",
       " (3, 'r'),\n",
       " (4, 'a'),\n",
       " (4, 'b'),\n",
       " (4, 'c'),\n",
       " (4, 'd'),\n",
       " (4, 'r'),\n",
       " (5, 'a'),\n",
       " (5, 'b'),\n",
       " (5, 'c'),\n",
       " (5, 'd'),\n",
       " (5, 'r'),\n",
       " (6, 'a'),\n",
       " (6, 'b'),\n",
       " (6, 'c'),\n",
       " (6, 'd'),\n",
       " (6, 'r')]"
      ]
     },
     "execution_count": 43,
     "metadata": {},
     "output_type": "execute_result"
    }
   ],
   "source": [
    "a = [1,2,3,4,5,6]\n",
    "b = ['a','b','c','d','r']\n",
    "def cart_prod(a,b):\n",
    "\n",
    "    lis = []\n",
    "    \n",
    "    for x in a:\n",
    "\n",
    "        for y in b:\n",
    "\n",
    "            ses = (x,y)\n",
    "\n",
    "            lis.append(ses)\n",
    "\n",
    "    return lis\n",
    "\n",
    "       \n",
    "\n",
    "cart_prod(a,b)"
   ]
  },
  {
   "cell_type": "code",
   "execution_count": null,
   "metadata": {},
   "outputs": [],
   "source": []
  },
  {
   "cell_type": "code",
   "execution_count": 15,
   "metadata": {},
   "outputs": [
    {
     "name": "stdout",
     "output_type": "stream",
     "text": [
      "1 : 1\n",
      "2 : 1\n",
      "3 : 3\n",
      "4 : 5\n",
      "5 : 7\n",
      "6 : 9\n",
      "7 : 11\n",
      "8 : 13\n",
      "9 : 15\n",
      "10 : 17\n",
      "11 : 19\n",
      "12 : 21\n",
      "13 : 23\n",
      "14 : 25\n",
      "15 : 27\n",
      "16 : 29\n",
      "17 : 31\n",
      "18 : 33\n",
      "19 : 35\n",
      "20 : 37\n",
      "21 : 39\n",
      "22 : 41\n",
      "23 : 43\n",
      "24 : 45\n",
      "25 : 47\n",
      "26 : 49\n",
      "27 : 51\n",
      "28 : 53\n",
      "29 : 55\n",
      "30 : 57\n",
      "31 : 59\n",
      "32 : 61\n",
      "33 : 63\n",
      "34 : 65\n",
      "35 : 67\n",
      "36 : 69\n",
      "37 : 71\n",
      "38 : 73\n",
      "39 : 75\n",
      "40 : 77\n",
      "41 : 79\n",
      "42 : 81\n",
      "43 : 83\n",
      "44 : 85\n",
      "45 : 87\n",
      "46 : 89\n",
      "47 : 91\n",
      "48 : 93\n",
      "49 : 95\n",
      "50 : 97\n",
      "51 : 99\n",
      "52 : 101\n",
      "53 : 103\n",
      "54 : 105\n",
      "55 : 107\n",
      "56 : 109\n",
      "57 : 111\n",
      "58 : 113\n",
      "59 : 115\n",
      "60 : 117\n",
      "61 : 119\n",
      "62 : 121\n",
      "63 : 123\n",
      "64 : 125\n",
      "65 : 127\n",
      "66 : 129\n",
      "67 : 131\n",
      "68 : 133\n",
      "69 : 135\n",
      "70 : 137\n",
      "71 : 139\n",
      "72 : 141\n",
      "73 : 143\n",
      "74 : 145\n",
      "75 : 147\n",
      "76 : 149\n",
      "77 : 151\n",
      "78 : 153\n",
      "79 : 155\n",
      "80 : 157\n",
      "81 : 159\n",
      "82 : 161\n",
      "83 : 163\n",
      "84 : 165\n",
      "85 : 167\n",
      "86 : 169\n",
      "87 : 171\n",
      "88 : 173\n",
      "89 : 175\n",
      "90 : 177\n",
      "91 : 179\n",
      "92 : 181\n",
      "93 : 183\n",
      "94 : 185\n",
      "95 : 187\n",
      "96 : 189\n",
      "97 : 191\n",
      "98 : 193\n",
      "99 : 195\n"
     ]
    }
   ],
   "source": [
    "def fibonaci(n):\n",
    "    if n == 1:\n",
    "        return 1\n",
    "    elif n == 2:\n",
    "        return 1\n",
    "    elif n > 2:\n",
    "        return n-1 + n-2\n",
    "for n in range(1,100):\n",
    "    print(n, \":\",fibonaci(n))\n",
    "\n"
   ]
  },
  {
   "cell_type": "code",
   "execution_count": 45,
   "metadata": {},
   "outputs": [
    {
     "name": "stdout",
     "output_type": "stream",
     "text": [
      "[(1, 'a'), (1, 'b'), (1, 'c'), (1, 'd'), (1, 'r'), (2, 'a'), (2, 'b'), (2, 'c'), (2, 'd'), (2, 'r'), (3, 'a'), (3, 'b'), (3, 'c'), (3, 'd'), (3, 'r'), (4, 'a'), (4, 'b'), (4, 'c'), (4, 'd'), (4, 'r'), (5, 'a'), (5, 'b'), (5, 'c'), (5, 'd'), (5, 'r'), (6, 'a'), (6, 'b'), (6, 'c'), (6, 'd'), (6, 'r')]\n"
     ]
    }
   ],
   "source": [
    "a = [1,2,3,4,5,6]\n",
    "b = ['a','b','c','d','r']\n",
    "\n",
    "res = [(x,y) for x in a for y in b]\n",
    "\n",
    "print(res)\n"
   ]
  },
  {
   "cell_type": "code",
   "execution_count": null,
   "metadata": {},
   "outputs": [],
   "source": [
    "fibonachi_cache = {}\n",
    "\n",
    "def fibonaci(n):\n",
    "\n",
    "    if n in fibonachi_cache:\n",
    "        return fibonachi_cache[n]\n",
    "    if n == 1:\n",
    "        return 1\n",
    "    elif n == 2:\n",
    "        return 1\n",
    "    elif n > 2:\n",
    "        value = fibonaci(n-1) + fibonaci(n-2)\n",
    "\n",
    "\n",
    "    fibonachi_cache[n] = value\n",
    "    return value\n",
    "\n",
    "for x in range(1, 101):\n",
    "    print(x, \":\" ,fibonaci(x))"
   ]
  },
  {
   "cell_type": "code",
   "execution_count": 58,
   "metadata": {},
   "outputs": [
    {
     "name": "stdout",
     "output_type": "stream",
     "text": [
      "[12.566370614359172, 28.274333882308138, 50.26548245743669, 78.53981633974483, 113.09733552923255, 153.93804002589985, 201.06192982974676, 254.46900494077323]\n"
     ]
    }
   ],
   "source": [
    "import math\n",
    "def area(a):\n",
    "    s = math.pi * ( a**2)\n",
    "\n",
    "    return s\n",
    "values = [x for x in range(2,10)]\n",
    "\n",
    "\n",
    "print(list(map(area, values)))"
   ]
  },
  {
   "cell_type": "code",
   "execution_count": 85,
   "metadata": {},
   "outputs": [
    {
     "name": "stdout",
     "output_type": "stream",
     "text": [
      "['em', 'aj', 'as']\n"
     ]
    }
   ],
   "source": [
    "name = 'hemaraju','raju','masterxeon'\n",
    "\n",
    "res = lambda data: data[1:3]\n",
    "result = list(map(res, name))\n",
    "print(result)"
   ]
  },
  {
   "cell_type": "code",
   "execution_count": 1,
   "metadata": {},
   "outputs": [
    {
     "name": "stdout",
     "output_type": "stream",
     "text": [
      "0\n",
      "1\n",
      "2\n",
      "3\n",
      "4\n",
      "5\n",
      "6\n",
      "7\n",
      "8\n",
      "9\n",
      "10\n",
      "11\n",
      "12\n",
      "13\n",
      "14\n",
      "15\n",
      "16\n",
      "17\n",
      "18\n",
      "19\n",
      "20\n",
      "21\n",
      "22\n",
      "23\n",
      "24\n",
      "25\n",
      "26\n",
      "27\n",
      "28\n",
      "29\n",
      "30\n",
      "31\n",
      "32\n",
      "33\n",
      "34\n",
      "35\n",
      "36\n",
      "37\n",
      "38\n",
      "39\n",
      "40\n",
      "41\n",
      "42\n",
      "43\n",
      "44\n",
      "45\n",
      "46\n",
      "47\n",
      "48\n",
      "49\n",
      "50\n",
      "51\n",
      "52\n",
      "53\n",
      "54\n",
      "55\n",
      "56\n",
      "57\n",
      "58\n",
      "59\n",
      "60\n",
      "61\n",
      "62\n",
      "63\n",
      "64\n",
      "65\n",
      "66\n",
      "67\n",
      "68\n",
      "69\n",
      "70\n",
      "71\n",
      "72\n",
      "73\n",
      "74\n",
      "75\n",
      "76\n",
      "77\n",
      "78\n",
      "79\n",
      "80\n",
      "81\n",
      "82\n",
      "83\n",
      "84\n",
      "85\n",
      "86\n",
      "87\n",
      "88\n",
      "89\n",
      "90\n",
      "91\n",
      "92\n",
      "93\n",
      "94\n",
      "95\n",
      "96\n",
      "97\n",
      "98\n",
      "99\n",
      "100\n",
      "101\n",
      "102\n",
      "103\n",
      "104\n",
      "105\n",
      "106\n",
      "107\n",
      "108\n",
      "109\n",
      "110\n",
      "111\n",
      "112\n",
      "113\n",
      "114\n",
      "115\n",
      "116\n",
      "117\n",
      "118\n",
      "119\n",
      "120\n",
      "121\n",
      "122\n",
      "123\n",
      "124\n",
      "125\n",
      "126\n",
      "127\n",
      "128\n",
      "129\n",
      "130\n",
      "131\n",
      "132\n",
      "133\n",
      "134\n",
      "135\n",
      "136\n",
      "137\n",
      "138\n",
      "139\n",
      "140\n",
      "141\n",
      "142\n",
      "143\n",
      "144\n",
      "145\n",
      "146\n",
      "147\n",
      "148\n",
      "149\n",
      "150\n",
      "151\n",
      "152\n",
      "153\n",
      "154\n",
      "155\n",
      "156\n",
      "157\n",
      "158\n",
      "159\n",
      "160\n",
      "161\n",
      "162\n",
      "163\n",
      "164\n",
      "165\n",
      "166\n",
      "167\n",
      "168\n",
      "169\n",
      "170\n",
      "171\n",
      "172\n",
      "173\n",
      "174\n",
      "175\n",
      "176\n",
      "177\n",
      "178\n",
      "179\n",
      "180\n",
      "181\n",
      "182\n",
      "183\n",
      "184\n",
      "185\n",
      "186\n",
      "187\n",
      "188\n",
      "189\n",
      "190\n",
      "191\n",
      "192\n",
      "193\n",
      "194\n",
      "195\n",
      "196\n",
      "197\n",
      "198\n",
      "199\n"
     ]
    }
   ],
   "source": [
    "#generator\n",
    "\n",
    "def my_generetor(num):\n",
    "    for i in range(num):\n",
    "        yield i\n",
    "\n",
    "for item in my_generetor(200):\n",
    "    print(item)"
   ]
  },
  {
   "cell_type": "code",
   "execution_count": 9,
   "metadata": {},
   "outputs": [
    {
     "data": {
      "text/plain": [
       "4"
      ]
     },
     "execution_count": 9,
     "metadata": {},
     "output_type": "execute_result"
    }
   ],
   "source": [
    "def count(data, target):\n",
    "    n=0\n",
    "    for item in data:\n",
    "        if item == target: # found a match\n",
    "            n += 1\n",
    "            return data[item]\n",
    "\n",
    "count([1,2,3,4,5],3)"
   ]
  },
  {
   "cell_type": "code",
   "execution_count": 21,
   "metadata": {},
   "outputs": [
    {
     "name": "stdout",
     "output_type": "stream",
     "text": [
      "True\n"
     ]
    }
   ],
   "source": [
    "def is_multiple(n, m):\n",
    "    res = True if (n % m == 0) else False\n",
    "    return res\n",
    "\n",
    "print(is_multiple(4,2))"
   ]
  },
  {
   "cell_type": "code",
   "execution_count": 58,
   "metadata": {},
   "outputs": [
    {
     "name": "stdout",
     "output_type": "stream",
     "text": [
      "new number in loop 5 and old L value 0\n",
      "so new l = 5\n",
      "new number in loop 8 and old L value 5\n",
      "so new l = 8\n",
      "new number in loop 9 and old L value 8\n",
      "so new l = 9\n",
      "new number in loop 45 and old L value 9\n",
      "so new l = 45\n",
      "new number in loop 78 and old L value 45\n",
      "so new l = 78\n"
     ]
    },
    {
     "data": {
      "text/plain": [
       "(78, 5)"
      ]
     },
     "execution_count": 58,
     "metadata": {},
     "output_type": "execute_result"
    }
   ],
   "source": [
    "def minmax(data):\n",
    "    l = 0\n",
    "    s = 0\n",
    "    s = data[0]\n",
    "\n",
    "    for num in data:\n",
    "\n",
    "        if num > l:\n",
    "            print(f'new number in loop {num} and old L value {l}')\n",
    "            l = num\n",
    "            print('so new l =', l)\n",
    "    for num in data:\n",
    "        if num < s:\n",
    "            s = sum\n",
    "\n",
    "    return l,s\n",
    "\n",
    "data = [5,8,9,45,12,78,49]\n",
    "\n",
    "minmax(data)\n",
    "\n"
   ]
  },
  {
   "cell_type": "code",
   "execution_count": 64,
   "metadata": {},
   "outputs": [
    {
     "name": "stdout",
     "output_type": "stream",
     "text": [
      "[50, 60, 70, 80]\n"
     ]
    }
   ],
   "source": [
    "x = [num for num in range(50,90,10)]\n",
    "\n",
    "print(x)"
   ]
  },
  {
   "cell_type": "code",
   "execution_count": 71,
   "metadata": {},
   "outputs": [
    {
     "name": "stdout",
     "output_type": "stream",
     "text": [
      "[0, 1, 4, 9, 16, 25, 36, 49, 64, 81]\n",
      "27\n"
     ]
    }
   ],
   "source": [
    "t =  [0, 2, 6, 12, 20, 30, 42, 56, 72, 90]\n",
    "\n",
    "\n",
    "lis = [x**2 for x in range(10)]\n",
    "print(lis)\n",
    "print(9*)\n"
   ]
  },
  {
   "cell_type": "code",
   "execution_count": 95,
   "metadata": {},
   "outputs": [
    {
     "name": "stdout",
     "output_type": "stream",
     "text": [
      "<class 'list'>\n"
     ]
    },
    {
     "ename": "TypeError",
     "evalue": "'int' object is not iterable",
     "output_type": "error",
     "traceback": [
      "\u001b[1;31m---------------------------------------------------------------------------\u001b[0m",
      "\u001b[1;31mTypeError\u001b[0m                                 Traceback (most recent call last)",
      "Cell \u001b[1;32mIn [95], line 16\u001b[0m\n\u001b[0;32m     11\u001b[0m         \u001b[39mprint\u001b[39m(x)\n\u001b[0;32m     13\u001b[0m     \u001b[39mreturn\u001b[39;00m x\n\u001b[1;32m---> 16\u001b[0m resultant \u001b[39m=\u001b[39m [\u001b[39mlist\u001b[39;49m(\u001b[39mmap\u001b[39;49m(char, lis))]\n\u001b[0;32m     18\u001b[0m \u001b[39mprint\u001b[39m(resultant)\n",
      "Cell \u001b[1;32mIn [95], line 10\u001b[0m, in \u001b[0;36mchar\u001b[1;34m(s)\u001b[0m\n\u001b[0;32m      9\u001b[0m \u001b[39mdef\u001b[39;00m \u001b[39mchar\u001b[39m(s):\n\u001b[1;32m---> 10\u001b[0m     \u001b[39mfor\u001b[39;00m x \u001b[39min\u001b[39;00m s:\n\u001b[0;32m     11\u001b[0m         \u001b[39mprint\u001b[39m(x)\n\u001b[0;32m     13\u001b[0m     \u001b[39mreturn\u001b[39;00m x\n",
      "\u001b[1;31mTypeError\u001b[0m: 'int' object is not iterable"
     ]
    }
   ],
   "source": [
    "import string\n",
    "letters = list(string.ascii_lowercase)\n",
    "\n",
    "print(type(letters))\n",
    "lis = [x for x in range(26)]\n",
    "\n",
    "res = [(a,b) for a in letters for b in lis]\n",
    "\n",
    "def char(s):\n",
    "    for x in s:\n",
    "        print(x)\n",
    "    \n",
    "    return x\n",
    "\n",
    "\n",
    "resultant = [list(map(char, lis))]\n",
    "\n",
    "print(resultant)\n"
   ]
  }
 ],
 "metadata": {
  "kernelspec": {
   "display_name": "Python 3.10.6 64-bit",
   "language": "python",
   "name": "python3"
  },
  "language_info": {
   "codemirror_mode": {
    "name": "ipython",
    "version": 3
   },
   "file_extension": ".py",
   "mimetype": "text/x-python",
   "name": "python",
   "nbconvert_exporter": "python",
   "pygments_lexer": "ipython3",
   "version": "3.10.6"
  },
  "orig_nbformat": 4,
  "vscode": {
   "interpreter": {
    "hash": "76d7c06053c3456e5600312cec90888656fc0ed30c03d8425b9dac6e4fc8e014"
   }
  }
 },
 "nbformat": 4,
 "nbformat_minor": 2
}
